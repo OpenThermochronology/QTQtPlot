{
 "cells": [
  {
   "cell_type": "markdown",
   "id": "21e0c761",
   "metadata": {},
   "source": [
    "# QTQt time-temperature path output plotting\n",
    "\n",
    "This Jupyter notebook is designed to take the raw time-temperature (t-T) output file from the QTQt thermal history modelling software of [Gallagher (2012)](https://doi.org/10.1029/2011JB008825) and replot the output as an image displaying t-T path density. So in these plots, relative probability is proportional to t--T path density, where darker colors (or higher saturation) denotes higher relative probability. Any t-T constraint boxes that were utilized during modelling can be plotted along with individual 'representative' model solutions (i.e., the maximum likehood or expected models). The example QTQt output file used here is from Figure 3a in [McDannell and Issler (2021)](https://doi.org/10.5194/gchron-3-321-2021)."
   ]
  },
  {
   "cell_type": "markdown",
   "id": "2a28dc55",
   "metadata": {},
   "source": [
    "## Setup and explanation of how QTQt output is read in for plotting\n",
    "The main QTQt output file needs to be in the same directory (i.e., output file that is \"run-name.txt\"), in this case the QTQt output file used for plotting input here is `QTQt2.txt`. The QTQt output file is arranged by row displaying: iteration #, likelihood value, posterior value, # of time-temperature points, and then the t-T pairs themselves. We use the `CHAIN` text in the output file as markers for the t-T blocks for the entire model run (this is the same thing that Kerry Gallagher uses in the QTQt software to grab plotting output). The `qtqt_print_step value` is either 2 or 3 based on whether the offset value between samples is used in QTQt. This number is shown as an additional between each t-T pair. Typically the `qtqt_print_step value` is '2' for a single data-type model run (i.e., modeling just an AFT sample) versus '3' for model runs with multiple types of data used as input (i.e., ZHe + AFT + AHe). In the example we have 3 separate fission track input files, so the step is `3`.Then we parse each row of t-T points into an array of arrays. Note these plots usually take a upwards of 1 to 2 minutes to be generated if the total model iterations is 10^6."
   ]
  },
  {
   "cell_type": "code",
   "execution_count": null,
   "id": "572f931b",
   "metadata": {},
   "outputs": [],
   "source": [
    "   ## --- Read QTQT output and plot as image\n",
    "\n",
    "   using StatGeochem\n",
    "   # Make sure we're running in the directory where the script is located\n",
    "   cd(@__DIR__)\n",
    "\n",
    "   #  Read data from file\n",
    "   filenamebase = \"QTQt2\"\n",
    "   ext = \".txt\"\n",
    "   qtqt_print_step = 3\n",
    "   filepath = joinpath(@__DIR__, filenamebase*ext)\n",
    "   lines = readlines(filepath)\n",
    "   limits = findall(x->contains(x,\"CHAIN\"),lines)\n",
    "   start, stop = limits[1]+1, limits[2]-1\n",
    "   # Parse into array-of-arrays\n",
    "   parsed = lines[start:stop] .|> x -> delim_string_parse(x, ' ', Float64)\n",
    "    # # Alternative: parse into single 2d array\n",
    "    # parsed = parsedlm(chain.captures[1], ' ', Float64)"
   ]
  },
  {
   "cell_type": "code",
   "execution_count": null,
   "id": "218f60fb",
   "metadata": {},
   "outputs": [],
   "source": [
    "    # Various one-color ramps for use, but most are now in StatGeochem also\n",
    "    #color_x = [1.05; range(1.1,2,length=130); range(2+1/120,2.9,length=125)]\n",
    "    #blues = linterp1(1:3, parse.(Color, [\"#FFFFFF\", \"#0000FF\", \"#000000\",]), color_x)\n",
    "    #oranges = linterp1(1:3, parse.(Color, [\"#FFFFFF\", \"#FF8f00\", \"#000000\",]), color_x)\n",
    "    #yellows = linterp1(1:3, parse.(Color, [\"#FFFFFF\", \"#FFE900\", \"#000000\",]), color_x)\n",
    "    #greens = linterp1(1:3, parse.(Color, [\"#FFFFFF\", \"#00AA66\", \"#000000\",]), color_x)\n",
    "    #cyans = linterp1(1:3, parse.(Color, [\"#FFFFFF\", \"#00AAFF\", \"#000000\",]), color_x)\n",
    "    #reds = linterp1(1:3, parse.(Color, [\"#FFFFFF\", \"#FF0000\", \"#000000\",]), color_x)\n",
    "    #violets = linterp1(1:3, parse.(Color, [\"#FFFFFF\", \"#8000F0\", \"#000000\",]), color_x)\n",
    "    #purples = linterp1(1:3, parse.(Color, [\"#FFFFFF\", \"#800080\", \"#000000\",]), color_x)\n",
    "    #magentas = linterp1(1:3, parse.(Color, [\"#FFFFFF\", \"#F00080\", \"#000000\",]), color_x)\n",
    "    #export blues, oranges, yellows, greens, cyans, reds, violets, purples, magentas"
   ]
  },
  {
   "cell_type": "markdown",
   "id": "a12eee7c",
   "metadata": {},
   "source": [
    "## Plot image with a colormap showing t-T path density\n",
    "Load the appropriate packages for plotting in Julia and the post burn-in stationary distribution is resized. This is then converted to an image using a color ramp of choice."
   ]
  },
  {
   "cell_type": "code",
   "execution_count": null,
   "id": "ed024f81",
   "metadata": {},
   "outputs": [],
   "source": [
    "## --- Plot image with colormap\n",
    "\n",
    "    using Plots\n",
    "    using StatsBase: fit, Histogram\n",
    "    using DelimitedFiles\n",
    "\n",
    "    xresolution = 2000\n",
    "    yresolution = 1000\n",
    "    tmax = nanmaximum(parsed .|> x -> maximum(x[5:qtqt_print_step:end]))\n",
    "    Tmax = nanmaximum(parsed .|> x -> maximum(x[6:qtqt_print_step:end]))\n",
    "\n",
    "    # Resize the post-burnin part of the stationary distribution\n",
    "    # the extrapolate value is for paths that 'begin' within the interior t-T space of the plot\n",
    "    tTdist = Array{Float64}(undef, xresolution, length(parsed))\n",
    "    xq = range(0,tmax,length=xresolution)\n",
    "    for i=1:length(parsed)\n",
    "        tTdist[:,i] = linterp1s(parsed[i][5:qtqt_print_step:end],parsed[i][6:qtqt_print_step:end],xq; extrapolate=-100)\n",
    "    end\n",
    "\n",
    "    # Calculate composite image\n",
    "    tTimage = zeros(yresolution,size(tTdist,1))\n",
    "    yq = range(0,Tmax,length=yresolution+1)\n",
    "    for i=1:size(tTdist,1)\n",
    "        tTimage[:,i] = fit(Histogram,tTdist[i,:],yq,closed=:right).weights\n",
    "    end"
   ]
  },
  {
   "cell_type": "markdown",
   "id": "89e2cfd6",
   "metadata": {},
   "source": [
    "*Note that log scaling of path (density) seems to work best for QTQt output where 'more complex' models are rejected, or the t-T bundle is very precisely constrained. Models where 'more complex' paths are allowed typically show some super-saturation if log scaling is set. Here we use log scaling of path density since this particular run had 'more complex' models rejected*"
   ]
  },
  {
   "cell_type": "code",
   "execution_count": null,
   "id": "0a66f9a1",
   "metadata": {},
   "outputs": [],
   "source": [
    "    tTimage = log.(tTimage .+ 1) #optional"
   ]
  },
  {
   "cell_type": "markdown",
   "id": "d1f59359",
   "metadata": {},
   "source": [
    "## Plotting the t-T image\n",
    "replace `viridis` (navy/green/yellow) with `inferno` (black/red/yellow), `magma` (purple/red/yellow), or `water` works well with a blue monochromatic scheme. Any of the various one-color ramps shown above can also be called.\n",
    "\n",
    "We set our default time and temperature axes for plotting to the `tmax` and `Tmax`, respectively, found in the QTQt output file. These values can be set to any value of your choosing. X and Y ascending or descending can be set with either `true` or `false`. Other plot features can be changed suited to your preferences."
   ]
  },
  {
   "cell_type": "code",
   "execution_count": null,
   "id": "4d2ae6fd",
   "metadata": {},
   "outputs": [],
   "source": [
    " A = imsc(tTimage,viridis,0,nanpctile(tTimage,98.5))\n",
    "    h = plot(xlabel=\"Time (Ma)\",ylabel=\"Temperature (°C)\",yticks=0:100:Tmax,xticks=0:500:tmax,yminorticks=5,xminorticks=5,tick_dir=:out,framestyle=:box)\n",
    "    plot!(h,xq,cntr(yq),A,yflip=true,xflip=true,legend=false,aspectratio=tmax/Tmax/1.5,xlims=(0,tmax),ylims=(0,Tmax))"
   ]
  },
  {
   "cell_type": "markdown",
   "id": "2c24821d",
   "metadata": {},
   "source": [
    "## Overlays of constraint boxes or preferred model paths\n",
    "Here we can overlay t-T boxes or the specific 'preferred' model t-T paths from QTQt, either the max. likelihood, max. posterior, expected ± 95% credible interval, or max. mode models (ML, MP, EX, MM). Here `EX` and `ML` are shown for simplicity and the former requires plotting of the mean path along with the +95% and -95% intervals (hence requiring 3 lines plotted), but the other paths are only a single set of t-T points (i.e., ML). The easiest way to get the QTQt ML, MP, etc. paths is either to view the output in QTQt and save the path to file or to find it in the output file manually. The `skipstart` function skips a set number of lines, in this case for `EX` it skips `4008` lines, which because this particular inversion had 3 separate input AFT files, there are 3 duplicated/identical `EX` paths-and we only need one of these sets for plotting."
   ]
  },
  {
   "cell_type": "code",
   "execution_count": null,
   "id": "fbfad66b",
   "metadata": {},
   "outputs": [],
   "source": [
    "    # plot individual paths\n",
    "    ########################\n",
    "    EX = readdlm(\"EX.txt\",skipstart=4008)\n",
    "    plot!(EX[:,1],EX[:,2],color=:white)\n",
    "    plot!(EX[:,1],EX[:,3],color=:white)\n",
    "    plot!(EX[:,1],EX[:,4],color=:white)\n",
    "\n",
    "    ML = readdlm(\"ML.txt\",skipstart=20)\n",
    "    plot!(ML[:,1],ML[:,2],color=:red)\n",
    "    \n",
    "    # t-T boxes, the first block is the time min/max and the second is the temp. min/max\n",
    "    ########################\n",
    "    #plot!([1600, 1700, 1700, 1600, 1600],[0, 0, 50, 50, 0], color=:white)#label=\"Proterozoic unconf.\")\n",
    "    #plot!([500, 540, 540, 500, 500],[0, 0, 40, 40, 0], color=:white)#label=\"sub-Cambrian unconf.\")\n",
    "\n",
    "    savefig(h,\"$filenamebase.pdf\")\n",
    "    display(h)\n",
    "\n",
    "## --- End of File"
   ]
  }
 ],
 "metadata": {
  "kernelspec": {
   "display_name": "Julia 1.6.2",
   "language": "julia",
   "name": "julia-1.6"
  },
  "language_info": {
   "file_extension": ".jl",
   "mimetype": "application/julia",
   "name": "julia",
   "version": "1.6.2"
  }
 },
 "nbformat": 4,
 "nbformat_minor": 5
}
